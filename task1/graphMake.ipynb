{
 "cells": [
  {
   "cell_type": "code",
   "execution_count": 1,
   "metadata": {},
   "outputs": [
    {
     "data": {
      "text/html": [
       "<div>\n",
       "<style scoped>\n",
       "    .dataframe tbody tr th:only-of-type {\n",
       "        vertical-align: middle;\n",
       "    }\n",
       "\n",
       "    .dataframe tbody tr th {\n",
       "        vertical-align: top;\n",
       "    }\n",
       "\n",
       "    .dataframe thead th {\n",
       "        text-align: right;\n",
       "    }\n",
       "</style>\n",
       "<table border=\"1\" class=\"dataframe\">\n",
       "  <thead>\n",
       "    <tr style=\"text-align: right;\">\n",
       "      <th></th>\n",
       "      <th>timeBrut</th>\n",
       "      <th>timeHeu</th>\n",
       "      <th>error</th>\n",
       "    </tr>\n",
       "    <tr>\n",
       "      <th>n</th>\n",
       "      <th></th>\n",
       "      <th></th>\n",
       "      <th></th>\n",
       "    </tr>\n",
       "  </thead>\n",
       "  <tbody>\n",
       "    <tr>\n",
       "      <th>4</th>\n",
       "      <td>0.032674</td>\n",
       "      <td>0.005899</td>\n",
       "      <td>0.021745</td>\n",
       "    </tr>\n",
       "    <tr>\n",
       "      <th>10</th>\n",
       "      <td>1.734272</td>\n",
       "      <td>0.014237</td>\n",
       "      <td>0.012862</td>\n",
       "    </tr>\n",
       "    <tr>\n",
       "      <th>15</th>\n",
       "      <td>77.247098</td>\n",
       "      <td>0.022176</td>\n",
       "      <td>0.004759</td>\n",
       "    </tr>\n",
       "    <tr>\n",
       "      <th>20</th>\n",
       "      <td>2305.994303</td>\n",
       "      <td>0.027589</td>\n",
       "      <td>0.006001</td>\n",
       "    </tr>\n",
       "    <tr>\n",
       "      <th>22</th>\n",
       "      <td>8547.511703</td>\n",
       "      <td>0.029296</td>\n",
       "      <td>0.006867</td>\n",
       "    </tr>\n",
       "  </tbody>\n",
       "</table>\n",
       "</div>"
      ],
      "text/plain": [
       "       timeBrut   timeHeu     error\n",
       "n                                  \n",
       "4      0.032674  0.005899  0.021745\n",
       "10     1.734272  0.014237  0.012862\n",
       "15    77.247098  0.022176  0.004759\n",
       "20  2305.994303  0.027589  0.006001\n",
       "22  8547.511703  0.029296  0.006867"
      ]
     },
     "metadata": {},
     "output_type": "display_data"
    },
    {
     "data": {
      "text/html": [
       "<div>\n",
       "<style scoped>\n",
       "    .dataframe tbody tr th:only-of-type {\n",
       "        vertical-align: middle;\n",
       "    }\n",
       "\n",
       "    .dataframe tbody tr th {\n",
       "        vertical-align: top;\n",
       "    }\n",
       "\n",
       "    .dataframe thead th {\n",
       "        text-align: right;\n",
       "    }\n",
       "</style>\n",
       "<table border=\"1\" class=\"dataframe\">\n",
       "  <thead>\n",
       "    <tr style=\"text-align: right;\">\n",
       "      <th></th>\n",
       "      <th>error</th>\n",
       "    </tr>\n",
       "    <tr>\n",
       "      <th>n</th>\n",
       "      <th></th>\n",
       "    </tr>\n",
       "  </thead>\n",
       "  <tbody>\n",
       "    <tr>\n",
       "      <th>4</th>\n",
       "      <td>0.363636</td>\n",
       "    </tr>\n",
       "    <tr>\n",
       "      <th>10</th>\n",
       "      <td>0.114801</td>\n",
       "    </tr>\n",
       "    <tr>\n",
       "      <th>15</th>\n",
       "      <td>0.085427</td>\n",
       "    </tr>\n",
       "    <tr>\n",
       "      <th>20</th>\n",
       "      <td>0.084337</td>\n",
       "    </tr>\n",
       "    <tr>\n",
       "      <th>22</th>\n",
       "      <td>0.072289</td>\n",
       "    </tr>\n",
       "  </tbody>\n",
       "</table>\n",
       "</div>"
      ],
      "text/plain": [
       "       error\n",
       "n           \n",
       "4   0.363636\n",
       "10  0.114801\n",
       "15  0.085427\n",
       "20  0.084337\n",
       "22  0.072289"
      ]
     },
     "metadata": {},
     "output_type": "display_data"
    },
    {
     "data": {
      "text/plain": [
       "<Figure size 3000x1500 with 1 Axes>"
      ]
     },
     "metadata": {},
     "output_type": "display_data"
    },
    {
     "data": {
      "text/plain": [
       "<Figure size 3000x1500 with 1 Axes>"
      ]
     },
     "metadata": {},
     "output_type": "display_data"
    },
    {
     "data": {
      "text/plain": [
       "<Figure size 3000x3000 with 1 Axes>"
      ]
     },
     "metadata": {},
     "output_type": "display_data"
    }
   ],
   "source": [
    "import numpy as np\n",
    "import pandas as pd\n",
    "import matplotlib.pyplot as plt\n",
    "import sklearn as skit\n",
    "import seaborn as sns\n",
    "from IPython.display import display, Markdown, Latex\n",
    "\n",
    "RAW_DATA = pd.read_csv('paaStatsAll.csv', index_col=0).reset_index(drop=True)\n",
    "df = RAW_DATA.groupby(['n'], as_index=False).mean().groupby('n')['timeBrut', 'timeHeu', 'error'].mean()\n",
    "df1 = RAW_DATA.groupby(['n'], as_index=False).max().groupby('n')['error'].max()\n",
    "\n",
    "df = pd.DataFrame(df)\n",
    "display(df.head())\n",
    "df1 = pd.DataFrame(df1)\n",
    "display(df1.head())\n",
    "\n",
    "df['timeBrut'] = df['timeBrut']/1000/60\n",
    "df['timeHeu'] = df['timeHeu']\n",
    "\n",
    "fig, ax = plt.subplots(figsize=(30,15))\n",
    "ax.plot(df.index, df['timeBrut'] , linewidth=6)\n",
    "ax.ticklabel_format(useOffset=False, style='plain')\n",
    "ax.set_xticks(df.index)\n",
    "ax.legend(['Brute-force'], fontsize = 50)\n",
    "plt.xticks(fontsize=30)\n",
    "plt.yticks(fontsize=30)\n",
    "#plt.title(\"Brute-force řešení. Časová náročnost.\", size = 50)\n",
    "plt.xlabel(\"Velikost instance v počtu položek (n)\", size = 35)\n",
    "plt.ylabel(\"Čas CPU na jednu instanci v minutách (min)\", size = 35)\n",
    "plt.grid()\n",
    "plt.show()\n",
    "fig.savefig(\"1.pdf\", bbox_inches='tight')\n",
    "\n",
    "\n",
    "fig, ax = plt.subplots(figsize=(30,15))\n",
    "ax.plot(df.index, df['timeHeu'] , linewidth=6)\n",
    "ax.ticklabel_format(useOffset=False, style='plain')\n",
    "ax.set_xticks(df.index)\n",
    "ax.legend(['Heuristika'], fontsize = 50)\n",
    "plt.xticks(fontsize=30)\n",
    "plt.yticks(fontsize=30)\n",
    "#plt.title(\"Řešení pomocí heuristiky. Časová náročnost.\", size = 50)\n",
    "plt.xlabel(\"Velikost instance v počtu položek (n)\", size = 35)\n",
    "plt.ylabel(\"Čas CPU na jednu instanci v milisekundách (ms)\", size = 35)\n",
    "plt.grid()\n",
    "plt.show()\n",
    "fig.savefig(\"2.pdf\", bbox_inches='tight')\n",
    "\n",
    "\n",
    "fig, ax = plt.subplots(figsize=(30,30))\n",
    "ax.plot(df.index, df['error'] , df1['error'], linewidth=6)\n",
    "ax.ticklabel_format(useOffset=False, style='plain')\n",
    "ax.set_xticks(df.index)\n",
    "ax.legend(['Průměrná chyba', 'Máximální chyba'], fontsize = 50)\n",
    "plt.xticks(fontsize=30)\n",
    "plt.yticks(fontsize=30)\n",
    "#plt.title(\"Řešení pomocí heuristiky. Velikost relativní chyby.\", size = 50)\n",
    "plt.xlabel(\"Velikost instance v počtu položek (n)\", size = 35)\n",
    "plt.ylabel(\"Relativní chyba v řešení pomocí heuristiky\", size = 35)\n",
    "plt.grid()\n",
    "plt.show()\n",
    "\n",
    "fig.savefig(\"3.pdf\", bbox_inches='tight')\n"
   ]
  },
  {
   "cell_type": "code",
   "execution_count": null,
   "metadata": {},
   "outputs": [],
   "source": []
  }
 ],
 "metadata": {
  "kernelspec": {
   "display_name": "Python 3",
   "language": "python",
   "name": "python3"
  },
  "language_info": {
   "codemirror_mode": {
    "name": "ipython",
    "version": 3
   },
   "file_extension": ".py",
   "mimetype": "text/x-python",
   "name": "python",
   "nbconvert_exporter": "python",
   "pygments_lexer": "ipython3",
   "version": "3.5.3"
  }
 },
 "nbformat": 4,
 "nbformat_minor": 2
}
